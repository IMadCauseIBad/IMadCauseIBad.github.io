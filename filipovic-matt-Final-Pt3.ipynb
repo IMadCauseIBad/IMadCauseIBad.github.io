{
 "cells": [
  {
   "cell_type": "markdown",
   "id": "d68c30e7",
   "metadata": {},
   "source": [
    "# A Look at Illinois Leadership Labor Liquidation"
   ]
  },
  {
   "cell_type": "markdown",
   "id": "51d0a89b",
   "metadata": {},
   "source": [
    "Analysis by Matt Filipovic"
   ]
  },
  {
   "cell_type": "code",
   "execution_count": 1,
   "id": "95acc461",
   "metadata": {},
   "outputs": [],
   "source": [
    "import pandas as pd\n",
    "import matplotlib\n",
    "import matplotlib.pyplot as plt\n",
    "import numpy as np\n",
    "import ipywidgets"
   ]
  },
  {
   "cell_type": "code",
   "execution_count": 2,
   "id": "bddf0003",
   "metadata": {},
   "outputs": [],
   "source": [
    "pay_data = pd.read_csv('https://drive.google.com/uc?id=1j4ifUm3rZww19RsCACIW33YAa9jpnWdZ&export=download')"
   ]
  },
  {
   "cell_type": "code",
   "execution_count": 3,
   "id": "980adc87",
   "metadata": {},
   "outputs": [],
   "source": [
    "division_sum = pay_data.groupby(\"Agency\")[\"YTD Gross\"].sum()"
   ]
  },
  {
   "cell_type": "code",
   "execution_count": 4,
   "id": "0fd5cd6c",
   "metadata": {},
   "outputs": [],
   "source": [
    "department_sum = pay_data.groupby(\"Agency Division\")[\"YTD Gross\"].sum()"
   ]
  },
  {
   "cell_type": "code",
   "execution_count": 5,
   "id": "17efe213",
   "metadata": {},
   "outputs": [],
   "source": [
    "division_avg_by_dept = pay_data.groupby(\"Agency\")[\"YTD Gross\"].mean()"
   ]
  },
  {
   "cell_type": "code",
   "execution_count": 6,
   "id": "be560663",
   "metadata": {},
   "outputs": [
    {
     "data": {
      "application/vnd.jupyter.widget-view+json": {
       "model_id": "5668c1ca6df14bd8b15c8a7501ec5c32",
       "version_major": 2,
       "version_minor": 0
      },
      "text/plain": [
       "interactive(children=(Dropdown(description='style', options=('fivethirtyeight', 'classic'), value='fivethirtye…"
      ]
     },
     "metadata": {},
     "output_type": "display_data"
    }
   ],
   "source": [
    "@ipywidgets.interact(style = ['fivethirtyeight','classic'], selector = ['Agency and Total Spending', 'Agency Average Yearly Income'])\n",
    "\n",
    "def Agency_Spending(style, selector):\n",
    "    with plt.style.context(style):\n",
    "        \n",
    "        if selector == 'Agency and Total Spending':\n",
    "            spending_graph = division_sum.sort_values().plot(figsize=(30,20), rot=90, kind=\"bar\")\n",
    "                             \n",
    "            plt.xlabel('Agency')\n",
    "            plt.ylabel('Spending')\n",
    "            plt.title('Agency and Total Spending')\n",
    "            plt.show()\n",
    "        elif selector == 'Division and Total Spending':\n",
    "            spending_graph = department_sum.sort_values().head(n=15).plot(figsize=(30,20), rot=90, kind=\"bar\")\n",
    "                             \n",
    "            plt.xlabel('Department')\n",
    "            plt.ylabel('Spending')\n",
    "            plt.title('Division and Total Spending, Top 15')\n",
    "            plt.show()\n",
    "            \n",
    "        elif selector == 'Agency Average Yearly Income':\n",
    "            spending_graph = division_avg_by_dept.sort_values().plot(figsize=(30,20), rot=90, kind=\"bar\")\n",
    "                             \n",
    "            plt.xlabel('Agency')\n",
    "            plt.ylabel('Average Income')\n",
    "            plt.title('Agency Average Yearly Income')\n",
    "            plt.show()"
   ]
  },
  {
   "cell_type": "code",
   "execution_count": 7,
   "id": "026d1294",
   "metadata": {
    "scrolled": false
   },
   "outputs": [
    {
     "data": {
      "application/vnd.jupyter.widget-view+json": {
       "model_id": "df2be452f61b49e1837f9e56f641e0c2",
       "version_major": 2,
       "version_minor": 0
      },
      "text/plain": [
       "interactive(children=(Dropdown(description='style', options=('fivethirtyeight', 'classic'), value='fivethirtye…"
      ]
     },
     "metadata": {},
     "output_type": "display_data"
    }
   ],
   "source": [
    "@ipywidgets.interact(style = ['fivethirtyeight','classic'], selector = ['Top Average Yearly Income', 'Bottom Average Yearly Income'])\n",
    "\n",
    "def Top_Mean(style, selector):\n",
    "    with plt.style.context(style):\n",
    "\n",
    "        if selector == 'Top Average Yearly Income':\n",
    "            top_mean_graph = division_avg_by_dept.sort_values().tail(n=10).plot(figsize=(30,30), rot=90, kind=\"bar\")\n",
    "                             \n",
    "            plt.xlabel('Agency')\n",
    "            plt.ylabel('Average Income')\n",
    "            plt.title('Top 10 Yearly Income Average per Agency')\n",
    "            plt.show()\n",
    "        \n",
    "        elif selector == 'Bottom Average Yearly Income':\n",
    "            top_mean_graph = division_avg_by_dept.sort_values().head(n=10).plot(figsize=(30,30), rot=90, kind=\"bar\")\n",
    "                             \n",
    "            plt.xlabel('Agency')\n",
    "            plt.ylabel('Average Income')\n",
    "            plt.title('Bottom 10 Yearly Income Average per Agency')\n",
    "            plt.show()"
   ]
  },
  {
   "cell_type": "code",
   "execution_count": 8,
   "id": "4cae8d13",
   "metadata": {},
   "outputs": [
    {
     "data": {
      "image/png": "[encoded data removed]",
      "text/plain": [
       "<Figure size 432x288 with 1 Axes>"
      ]
     },
     "metadata": {
      "needs_background": "light"
     },
     "output_type": "display_data"
    }
   ],
   "source": [
    "top_box = division_avg_by_dept.plot.box(title='Average Year Wages Total')"
   ]
  },
  {
   "cell_type": "markdown",
   "id": "0163da53",
   "metadata": {},
   "source": [
    "   These graphs are created using data compiled by the state of Illinois on the website data.illinois.gov. The data tracks the payment of hires in different departments within Illinois. I chose this data because I thought that it would be interesting to see where our tax money goes in regards to labor within the state, especially with Illinois poor track record with the state budget. I thought a good way of looking at the data was to compare the average spending of each department, and then comapre it to the average pay that an employee gets. This is because it would show if certain divisions of the governement were using more funds than necesarry compared to other divisions.\n",
    "\n",
    "   The first graphs I made were yearly total labor spending by agency and average wage to analyze how much money gets put into a department, and then on average what the employees are getting paid for it. The first thing I notice when I see the total allocation is the dispairity between the top two sectors, Human Services and Corrections, and the rest of the graph. The first issue I see with this is that there are other departments that deal with prisoners, such as the prisoner review board, that could reduce costs for corrections. Another portion of this would be to redirect funds to departments such as the board of education to help reduce the need to commit crime and end up needing the state to budget more money into the corrections department. As for human services, we can look at the average pay graph and see that the average salary is quite low, being on the lowest third of the graph, while the overall expendature is high. While I don't advocate for reducing the funds for human services as a department, it seems like it could use an update to reduce the needed employees while keeping the same efficiency. \n",
    "    \n",
    "   My next three graphs look at the upper average income, lower average income, and the boxplot of all average wages between departments. I chose to do these graphs to not only highlight the differences in average wage, but to show how some departments are highly neglected. The prisoner review board comes up yet again but for low average wage, along with the department of student assistance. Both departments have average wages far below the average, telling me that the government doesn't value the work done by these departments as much as many others. Both of these departments would be critical in reducing costs in policing and corrections by helping those who do not pose a threat get released, and helping those who would like to further their education and improve thier economic status. This would be done by being able to do deeper reviews on prisoners with more staff and help those who cannot afford to go to college afford to go to college. By diverting funds to promote this, we could lower costs while improving the lives of Illinois citizens. I understand why some departments such as the tax board and the investments department are highly paid, as they should bring money into the government instead of spending money, but departments like the capital development board do not need to be as supported as the departments that I've mentioned."
   ]
  },
  {
   "cell_type": "markdown",
   "id": "6210e035",
   "metadata": {},
   "source": [
    "# Bibliography"
   ]
  },
  {
   "cell_type": "markdown",
   "id": "1db98371",
   "metadata": {},
   "source": [
    "\n",
    "\n",
    "  Illinois Department of Central Management Services. “State Employee Pay Hired after 1.1.2011 - Data - Data.Illinois.Gov.” \n",
    "Data.Illinois.Gov, https://data.illinois.gov/dataset/725state_employee_pay_hired_after_112011/resource/1a0cd05c-7d17-4e3d-938d-c2bfa2a4a0b1. \n",
    "Accessed 7 May 2022.\n",
    "\n"
   ]
  }
 ],
 "metadata": {
  "kernelspec": {
   "display_name": "Python 3 (ipykernel)",
   "language": "python",
   "name": "python3"
  },
  "language_info": {
   "codemirror_mode": {
    "name": "ipython",
    "version": 3
   },
   "file_extension": ".py",
   "mimetype": "text/x-python",
   "name": "python",
   "nbconvert_exporter": "python",
   "pygments_lexer": "ipython3",
   "version": "3.7.10"
  }
 },
 "nbformat": 4,
 "nbformat_minor": 5
}
